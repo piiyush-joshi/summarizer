{
 "cells": [
  {
   "cell_type": "code",
   "execution_count": 1,
   "metadata": {},
   "outputs": [
    {
     "data": {
      "text/plain": [
       "True"
      ]
     },
     "execution_count": 1,
     "metadata": {},
     "output_type": "execute_result"
    }
   ],
   "source": [
    "import os\n",
    "from dotenv import load_dotenv\n",
    "load_dotenv()"
   ]
  },
  {
   "cell_type": "code",
   "execution_count": 2,
   "metadata": {},
   "outputs": [],
   "source": [
    "groq_api_key = os.getenv(\"GROQ_API_KEY\")"
   ]
  },
  {
   "cell_type": "code",
   "execution_count": 3,
   "metadata": {},
   "outputs": [
    {
     "data": {
      "text/plain": [
       "ChatGroq(client=<groq.resources.chat.completions.Completions object at 0x000002537FACDB40>, async_client=<groq.resources.chat.completions.AsyncCompletions object at 0x000002537FACE800>, model_name='gemma2-9b-it', groq_api_key=SecretStr('**********'))"
      ]
     },
     "execution_count": 3,
     "metadata": {},
     "output_type": "execute_result"
    }
   ],
   "source": [
    "from langchain_groq import ChatGroq\n",
    "\n",
    "llm = ChatGroq(model='gemma2-9b-it', api_key=groq_api_key)\n",
    "llm"
   ]
  },
  {
   "cell_type": "code",
   "execution_count": 8,
   "metadata": {},
   "outputs": [],
   "source": [
    "from langchain.schema import (\n",
    "    SystemMessage,\n",
    "    HumanMessage,\n",
    "    AIMessage\n",
    ")\n",
    "\n",
    "product=  \"\"\"\n",
    "Product= iPhone 13\n",
    "Design\n",
    "Dimensions: 146.7 x 71.5 x 7.65 mm\n",
    "Weight: 174 grams\n",
    "Materials: Aerospace-grade aluminum frame, Ceramic Shield front cover, and glass back\n",
    "Colors: Blue, Pink, Midnight, Starlight, (PRODUCT)RED\n",
    "Display\n",
    "Type: Super Retina XDR display\n",
    "Size: 6.1 inches (diagonal)\n",
    "Resolution: 2532 x 1170 pixels, 460 ppi\n",
    "Brightness: Up to 800 nits (typical); 1200 nits (HDR)\n",
    "Features: HDR10, True Tone, Wide color (P3), Haptic Touch\n",
    "Performance\n",
    "Processor: A15 Bionic chip\n",
    "CPU: 6-core (2 performance cores, 4 efficiency cores)\n",
    "GPU: 4-core\n",
    "Neural Engine: 16-core\n",
    "Camera System\n",
    "Rear Cameras:\n",
    "Wide Camera: 12 MP, ƒ/1.6 aperture\n",
    "Ultra Wide Camera: 12 MP, ƒ/2.4 aperture, 120° field of view\n",
    "Features: Night mode, Deep Fusion, Smart HDR 4, Photographic Styles, 4K Dolby Vision HDR recording\n",
    "Front Camera:\n",
    "TrueDepth Camera: 12 MP, ƒ/2.2 aperture\n",
    "Features: Night mode, Deep Fusion, Smart HDR 4, Photographic Styles, 4K Dolby Vision HDR recording\n",
    "Battery\n",
    "Type: Built-in rechargeable lithium-ion battery\n",
    "Video Playback: Up to 19 hours\n",
    "Audio Playback: Up to 75 hours\n",
    "Charging: MagSafe and Qi wireless charging, Fast charging with 20W or higher adapter\n",
    "Storage Options\n",
    "Capacities: 128GB, 256GB, 512GB\n",
    "Operating System\n",
    "iOS: Initially shipped with iOS 15\n",
    "Connectivity\n",
    "5G: Supports 5G (sub-6 GHz and mmWave in the U.S.)\n",
    "Wi-Fi: Wi-Fi 6 (802.11ax) with MIMO\n",
    "Bluetooth: Bluetooth 5.0\n",
    "Ultra-Wideband (UWB): U1 chip\n",
    "NFC: Reader mode\n",
    "Other Features\n",
    "Face ID: Enabled by TrueDepth camera for facial recognition\n",
    "Water and Dust Resistance: IP68 (maximum depth of 6 meters up to 30 minutes) under IEC standard 60529\n",
    "Audio: Spatial audio, Dolby Atmos support\n",
    "Sensors: LiDAR Scanner, Barometer, Three‑axis gyro, Accelerometer, Proximity sensor, Ambient light sensor\n",
    "Box Contents\n",
    "iPhone 13\n",
    "USB-C to Lightning Cable\n",
    "Documentation\n",
    "\"\"\""
   ]
  },
  {
   "cell_type": "code",
   "execution_count": 9,
   "metadata": {},
   "outputs": [
    {
     "data": {
      "text/plain": [
       "'\\nProduct= iPhone 13\\nDesign\\nDimensions: 146.7 x 71.5 x 7.65 mm\\nWeight: 174 grams\\nMaterials: Aerospace-grade aluminum frame, Ceramic Shield front cover, and glass back\\nColors: Blue, Pink, Midnight, Starlight, (PRODUCT)RED\\nDisplay\\nType: Super Retina XDR display\\nSize: 6.1 inches (diagonal)\\nResolution: 2532 x 1170 pixels, 460 ppi\\nBrightness: Up to 800 nits (typical); 1200 nits (HDR)\\nFeatures: HDR10, True Tone, Wide color (P3), Haptic Touch\\nPerformance\\nProcessor: A15 Bionic chip\\nCPU: 6-core (2 performance cores, 4 efficiency cores)\\nGPU: 4-core\\nNeural Engine: 16-core\\nCamera System\\nRear Cameras:\\nWide Camera: 12 MP, ƒ/1.6 aperture\\nUltra Wide Camera: 12 MP, ƒ/2.4 aperture, 120° field of view\\nFeatures: Night mode, Deep Fusion, Smart HDR 4, Photographic Styles, 4K Dolby Vision HDR recording\\nFront Camera:\\nTrueDepth Camera: 12 MP, ƒ/2.2 aperture\\nFeatures: Night mode, Deep Fusion, Smart HDR 4, Photographic Styles, 4K Dolby Vision HDR recording\\nBattery\\nType: Built-in rechargeable lithium-ion battery\\nVideo Playback: Up to 19 hours\\nAudio Playback: Up to 75 hours\\nCharging: MagSafe and Qi wireless charging, Fast charging with 20W or higher adapter\\nStorage Options\\nCapacities: 128GB, 256GB, 512GB\\nOperating System\\niOS: Initially shipped with iOS 15\\nConnectivity\\n5G: Supports 5G (sub-6 GHz and mmWave in the U.S.)\\nWi-Fi: Wi-Fi 6 (802.11ax) with MIMO\\nBluetooth: Bluetooth 5.0\\nUltra-Wideband (UWB): U1 chip\\nNFC: Reader mode\\nOther Features\\nFace ID: Enabled by TrueDepth camera for facial recognition\\nWater and Dust Resistance: IP68 (maximum depth of 6 meters up to 30 minutes) under IEC standard 60529\\nAudio: Spatial audio, Dolby Atmos support\\nSensors: LiDAR Scanner, Barometer, Three‑axis gyro, Accelerometer, Proximity sensor, Ambient light sensor\\nBox Contents\\niPhone 13\\nUSB-C to Lightning Cable\\nDocumentation\\n'"
      ]
     },
     "execution_count": 9,
     "metadata": {},
     "output_type": "execute_result"
    }
   ],
   "source": [
    "product"
   ]
  },
  {
   "cell_type": "code",
   "execution_count": 10,
   "metadata": {},
   "outputs": [],
   "source": [
    "chat_message = [\n",
    "    SystemMessage(content=\"You are an expert Sales assistant who summarize the product specification for customers.\"),\n",
    "    HumanMessage(content=f\"Please Provide the concise summary of this product: \\n\\n Text: {product}\")\n",
    "\n",
    "]"
   ]
  },
  {
   "cell_type": "code",
   "execution_count": 21,
   "metadata": {},
   "outputs": [
    {
     "data": {
      "text/plain": [
       "'The iPhone 13 boasts a sleek, durable design with a 6.1-inch Super Retina XDR display for vibrant visuals. Powered by the lightning-fast A15 Bionic chip, it delivers exceptional performance for demanding tasks. \\n\\nCapture stunning photos and videos with its advanced dual 12MP camera system featuring Night mode, Cinematic mode, and 4K Dolby Vision HDR recording. Enjoy extended battery life, fast charging capabilities, and immersive audio experiences with Spatial audio and Dolby Atmos support.  \\n\\nOther key features include Face ID for secure authentication, water and dust resistance, and 5G connectivity for blazing-fast speeds. Choose from 128GB, 256GB, or 512GB storage options to suit your needs.  \\n\\n'"
      ]
     },
     "execution_count": 21,
     "metadata": {},
     "output_type": "execute_result"
    }
   ],
   "source": [
    "##1st answer\n",
    "\n",
    "\n",
    "llm(chat_message).content"
   ]
  },
  {
   "cell_type": "markdown",
   "metadata": {},
   "source": [
    "### Prompt Template Text Summarizations"
   ]
  },
  {
   "cell_type": "code",
   "execution_count": 14,
   "metadata": {},
   "outputs": [
    {
     "data": {
      "text/plain": [
       "PromptTemplate(input_variables=['language', 'product'], template='\\nWrite a summary of the following:\\n\"{product}\".\\nTranslate the precise summary into {language}\\n')"
      ]
     },
     "execution_count": 14,
     "metadata": {},
     "output_type": "execute_result"
    }
   ],
   "source": [
    "from langchain.chains import LLMChain\n",
    "from langchain.prompts import PromptTemplate\n",
    "\n",
    "genertic_prompt = \"\"\"\n",
    "Write a summary of the following:\n",
    "\"{product}\".\n",
    "Translate the precise summary into {language}\n",
    "\"\"\"\n",
    "\n",
    "prompt = PromptTemplate(\n",
    "    input_variables=[\"product\", \"language\"],\n",
    "    template=genertic_prompt,\n",
    ")\n",
    "\n",
    "prompt"
   ]
  },
  {
   "cell_type": "code",
   "execution_count": 16,
   "metadata": {},
   "outputs": [
    {
     "data": {
      "text/plain": [
       "'\\nWrite a summary of the following:\\n\"\\nProduct= iPhone 13\\nDesign\\nDimensions: 146.7 x 71.5 x 7.65 mm\\nWeight: 174 grams\\nMaterials: Aerospace-grade aluminum frame, Ceramic Shield front cover, and glass back\\nColors: Blue, Pink, Midnight, Starlight, (PRODUCT)RED\\nDisplay\\nType: Super Retina XDR display\\nSize: 6.1 inches (diagonal)\\nResolution: 2532 x 1170 pixels, 460 ppi\\nBrightness: Up to 800 nits (typical); 1200 nits (HDR)\\nFeatures: HDR10, True Tone, Wide color (P3), Haptic Touch\\nPerformance\\nProcessor: A15 Bionic chip\\nCPU: 6-core (2 performance cores, 4 efficiency cores)\\nGPU: 4-core\\nNeural Engine: 16-core\\nCamera System\\nRear Cameras:\\nWide Camera: 12 MP, ƒ/1.6 aperture\\nUltra Wide Camera: 12 MP, ƒ/2.4 aperture, 120° field of view\\nFeatures: Night mode, Deep Fusion, Smart HDR 4, Photographic Styles, 4K Dolby Vision HDR recording\\nFront Camera:\\nTrueDepth Camera: 12 MP, ƒ/2.2 aperture\\nFeatures: Night mode, Deep Fusion, Smart HDR 4, Photographic Styles, 4K Dolby Vision HDR recording\\nBattery\\nType: Built-in rechargeable lithium-ion battery\\nVideo Playback: Up to 19 hours\\nAudio Playback: Up to 75 hours\\nCharging: MagSafe and Qi wireless charging, Fast charging with 20W or higher adapter\\nStorage Options\\nCapacities: 128GB, 256GB, 512GB\\nOperating System\\niOS: Initially shipped with iOS 15\\nConnectivity\\n5G: Supports 5G (sub-6 GHz and mmWave in the U.S.)\\nWi-Fi: Wi-Fi 6 (802.11ax) with MIMO\\nBluetooth: Bluetooth 5.0\\nUltra-Wideband (UWB): U1 chip\\nNFC: Reader mode\\nOther Features\\nFace ID: Enabled by TrueDepth camera for facial recognition\\nWater and Dust Resistance: IP68 (maximum depth of 6 meters up to 30 minutes) under IEC standard 60529\\nAudio: Spatial audio, Dolby Atmos support\\nSensors: LiDAR Scanner, Barometer, Three‑axis gyro, Accelerometer, Proximity sensor, Ambient light sensor\\nBox Contents\\niPhone 13\\nUSB-C to Lightning Cable\\nDocumentation\\n\".\\nTranslate the precise summary into Marathi\\n'"
      ]
     },
     "execution_count": 16,
     "metadata": {},
     "output_type": "execute_result"
    }
   ],
   "source": [
    "complete_prompt = prompt.format(product=product, language = \"Marathi\")\n",
    "complete_prompt"
   ]
  },
  {
   "cell_type": "code",
   "execution_count": 23,
   "metadata": {},
   "outputs": [
    {
     "data": {
      "text/plain": [
       "\"## Résumé de l'iPhone 13\\n\\n**Design:**\\n\\n* Dimensions : 146,7 x 71,5 x 7,65 mm\\n* Poids : 174 grammes\\n* Matériaux : Cadre en aluminium aérospatial, verre céramique sur la façade et verre sur le dos\\n* Couleurs : Bleu, Rose, Noir, Éclat, (PRODUCT)RED\\n\\n**Écran :**\\n\\n* Type : Écran Super Retina XDR\\n* Taille : 6,1 pouces (diagonale)\\n* Résolution : 2532 x 1170 pixels, 460 ppi\\n* Luminosité : Jusqu'à 800 nits (typique) ; 1200 nits (HDR)\\n* Fonctionnalités : HDR10, True Tone, Large gamme de couleurs (P3), Haptic Touch\\n\\n**Performance :**\\n\\n* Processeur : A15 Bionic\\n* CPU : 6 cœurs (2 cœurs de performance, 4 cœurs d'efficacité)\\n* GPU : 4 cœurs\\n* Neurones : 16 cœurs\\n\\n**Système photographique :**\\n\\n* Caméras arrière :\\n    * Caméra grand angle : 12 MP, ouverture f/1,6\\n    * Caméra ultra grand angle : 12 MP, ouverture f/2,4, champ de vision de 120°\\n* Fonctionnalités : Mode nuit, Deep Fusion, Smart HDR 4, Styles photographiques, Enregistrement vidéo 4K Dolby Vision HDR\\n* Caméra frontale :\\n    * Caméra TrueDepth : 12 MP, ouverture f/2,2\\n* Fonctionnalités : Mode nuit, Deep Fusion, Smart HDR 4, Styles photographiques, Enregistrement vidéo 4K Dolby Vision HDR\\n\\n**Batterie :**\\n\\n* Type : Batterie lithium-ion rechargeable intégrée\\n* Lecture vidéo : Jusqu'à 19 heures\\n* Lecture audio : Jusqu'à 75 heures\\n* Recharge : Recharge MagSafe et Qi sans fil, recharge rapide avec adaptateur de 20W ou plus\\n\\n**Options de stockage :**\\n\\n* Capacités : 128 Go, 256 Go, 512 Go\\n\\n**Système d'exploitation :**\\n\\n* iOS : Démarré avec iOS 15\\n\\n**Connectivité :**\\n\\n* 5G : Supporte 5G (sub-6 GHz et mmWave aux États-Unis)\\n* Wi-Fi : Wi-Fi 6 (802.11ax) avec MIMO\\n* Bluetooth : Bluetooth 5.0\\n* Ultra-Wideband (UWB) : Puce U1\\n* NFC : Mode lecteur\\n\\n**Autres fonctionnalités :**\\n\\n* Face ID : Activé par la caméra TrueDepth pour la reconnaissance faciale\\n* Résistance à l'eau et à la poussière : IP68 (maximum 6 mètres de profondeur pendant 30 minutes) selon la norme IEC 60529\\n* Audio : Audio spatial, prise en charge Dolby Atmos\\n* Capteurs : Scanner LiDAR, Baromètre, Gyr oscilloscope à trois axes, Accéléromètre, Capteur de proximité, Capteur d'éclairage ambiant\\n\\n**Contenu de la boîte :**\\n\\n* iPhone 13\\n* Câble USB-C vers Lightning\\n* Documentation\\n\\n\\n\\n\""
      ]
     },
     "execution_count": 23,
     "metadata": {},
     "output_type": "execute_result"
    }
   ],
   "source": [
    "#2nd answer translation using LLMCHain\n",
    "\n",
    "llm_chain = LLMChain(llm=llm, prompt=prompt)\n",
    "summary = llm_chain.run({'product':product, 'language':'French'})\n",
    "summary"
   ]
  },
  {
   "cell_type": "markdown",
   "metadata": {},
   "source": []
  },
  {
   "cell_type": "markdown",
   "metadata": {},
   "source": []
  },
  {
   "cell_type": "code",
   "execution_count": null,
   "metadata": {},
   "outputs": [],
   "source": []
  }
 ],
 "metadata": {
  "kernelspec": {
   "display_name": "Python 3",
   "language": "python",
   "name": "python3"
  },
  "language_info": {
   "codemirror_mode": {
    "name": "ipython",
    "version": 3
   },
   "file_extension": ".py",
   "mimetype": "text/x-python",
   "name": "python",
   "nbconvert_exporter": "python",
   "pygments_lexer": "ipython3",
   "version": "3.10.0"
  }
 },
 "nbformat": 4,
 "nbformat_minor": 2
}
